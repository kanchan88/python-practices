{
 "cells": [
  {
   "cell_type": "code",
   "execution_count": 126,
   "metadata": {},
   "outputs": [],
   "source": [
    "from PIL import Image, ImageFont, ImageDraw "
   ]
  },
  {
   "cell_type": "code",
   "execution_count": 133,
   "metadata": {},
   "outputs": [],
   "source": [
    "my_image = Image.open(\"billformat.png\")"
   ]
  },
  {
   "cell_type": "code",
   "execution_count": 134,
   "metadata": {},
   "outputs": [],
   "source": [
    "namefont = ImageFont.truetype('mns.ttf', 8)"
   ]
  },
  {
   "cell_type": "code",
   "execution_count": 135,
   "metadata": {},
   "outputs": [],
   "source": [
    "name_text = \"Kanchan\"\n",
    "address_text = \"New Baneshwor, KTM\"\n",
    "product_text =\"Red Velvet\"\n",
    "qty_text = 2\n",
    "price_text = 1000"
   ]
  },
  {
   "cell_type": "code",
   "execution_count": 136,
   "metadata": {},
   "outputs": [],
   "source": [
    "total_text = qty_text*price_text "
   ]
  },
  {
   "cell_type": "code",
   "execution_count": 137,
   "metadata": {},
   "outputs": [],
   "source": [
    "image_editable = ImageDraw.Draw(my_image)"
   ]
  },
  {
   "cell_type": "code",
   "execution_count": 138,
   "metadata": {},
   "outputs": [],
   "source": [
    "image_editable.text((45,108), name_text, font=namefont, fill=\"#000\")\n",
    "image_editable.text((50,125), address_text, font=namefont, fill=\"#000\")\n",
    "image_editable.text((50,179), product_text, font=namefont, fill=\"#000\")\n",
    "image_editable.text((200,179), str(qty_text), font=namefont, fill=\"#000\")\n",
    "image_editable.text((230,179), str(price_text), font=namefont, fill=\"#000\")\n",
    "image_editable.text((280,179), str(total_text), font=namefont, fill=\"#000\")\n",
    "image_editable.text((280,363), str(total_text), font=namefont, fill=\"#000\")\n",
    "my_image.save(\"result.png\")"
   ]
  },
  {
   "cell_type": "code",
   "execution_count": null,
   "metadata": {},
   "outputs": [],
   "source": []
  }
 ],
 "metadata": {
  "kernelspec": {
   "display_name": "Python 3",
   "language": "python",
   "name": "python3"
  },
  "language_info": {
   "codemirror_mode": {
    "name": "ipython",
    "version": 3
   },
   "file_extension": ".py",
   "mimetype": "text/x-python",
   "name": "python",
   "nbconvert_exporter": "python",
   "pygments_lexer": "ipython3",
   "version": "3.7.4"
  }
 },
 "nbformat": 4,
 "nbformat_minor": 2
}
