{
 "cells": [
  {
   "cell_type": "code",
   "execution_count": 22,
   "metadata": {},
   "outputs": [
    {
     "name": "stdout",
     "output_type": "stream",
     "text": [
      "The unsorted subarray which makes the given array\n",
      "sorted lies between the indexes 1 and 3\n"
     ]
    }
   ],
   "source": [
    "# find the Minimum length Unsorted Subarray,\n",
    "# sorting which makes the complete array sorted\n",
    "def printUnsorted(arr, n):\n",
    "    e = n-1\n",
    "    for s in range(0,n-1):\n",
    "        if arr[s] > arr[s+1]:\n",
    "            break\n",
    "    if s == n-1:\n",
    "        print (\"The complete array is sorted\")\n",
    "        exit()\n",
    "    e= n-1\n",
    "    while e > 0:\n",
    "        if arr[e] < arr[e-1]:\n",
    "            break\n",
    "        e -= 1\n",
    "    max = arr[s]\n",
    "    min = arr[s]\n",
    "    for i in range(s+1,e+1):\n",
    "        if arr[i] > max:\n",
    "            max = arr[i]\n",
    "        if arr[i] < min:\n",
    "            min = arr[i]\n",
    "    for i in range(s):\n",
    "        if arr[i] > min:\n",
    "            s = i\n",
    "            break\n",
    "    i = n-1\n",
    "    while i >= e+1:\n",
    "        if arr[i] < max:\n",
    "            e = i\n",
    "            break\n",
    "        i -= 1\n",
    "    print (\"The unsorted subarray which makes the given array\")\n",
    "    print (\"sorted lies between the indexes %d and %d\"%( s, e))"
   ]
  },
  {
   "cell_type": "code",
   "execution_count": 20,
   "metadata": {},
   "outputs": [
    {
     "name": "stdout",
     "output_type": "stream",
     "text": [
      "3 7\n"
     ]
    }
   ],
   "source": [
    "arr_ = [3, 7, 5, 6, 9]\n",
    "printUnsorted(arr)"
   ]
  },
  {
   "cell_type": "code",
   "execution_count": null,
   "metadata": {},
   "outputs": [],
   "source": []
  }
 ],
 "metadata": {
  "kernelspec": {
   "display_name": "Python 3",
   "language": "python",
   "name": "python3"
  },
  "language_info": {
   "codemirror_mode": {
    "name": "ipython",
    "version": 3
   },
   "file_extension": ".py",
   "mimetype": "text/x-python",
   "name": "python",
   "nbconvert_exporter": "python",
   "pygments_lexer": "ipython3",
   "version": "3.7.4"
  }
 },
 "nbformat": 4,
 "nbformat_minor": 2
}
