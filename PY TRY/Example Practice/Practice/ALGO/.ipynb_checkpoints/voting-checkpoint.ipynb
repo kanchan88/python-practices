{
 "cells": [
  {
   "cell_type": "code",
   "execution_count": null,
   "metadata": {},
   "outputs": [],
   "source": [
    "# "
   ]
  },
  {
   "cell_type": "code",
   "execution_count": 29,
   "metadata": {},
   "outputs": [],
   "source": [
    "#function for handling voters machine\n",
    "voters = []\n",
    "candidates = []\n",
    "\n",
    "def votingmachine(v_id, c_id):\n",
    "    w=open('vote.txt', \"r\")\n",
    "    voter_data = w.read()\n",
    "    w.close()\n",
    "    for single_line in voter_data.split():\n",
    "        if(single_line[0]!=str(v_id)):\n",
    "            if v_id not in voters:\n",
    "                voters.append(v_id)\n",
    "                f = open('vote.txt', \"a+\")\n",
    "                save_details = str(v_id)+\",\"+str(c_id)\n",
    "                f.write(\"{}\\n\".format(save_details))\n",
    "            candidates.append(c_id)\n",
    "            print(\"Your vote added\")\n",
    "        else:\n",
    "            print(\"You can't vote twice\")\n",
    "    print()"
   ]
  },
  {
   "cell_type": "code",
   "execution_count": 30,
   "metadata": {},
   "outputs": [
    {
     "name": "stdout",
     "output_type": "stream",
     "text": [
      "Your vote added\n",
      "You can't vote twice\n",
      "You can't vote twice\n",
      "You can't vote twice\n",
      "You can't vote twice\n",
      "You can't vote twice\n",
      "You can't vote twice\n",
      "You can't vote twice\n",
      "You can't vote twice\n",
      "[2, 2, 2, 2, 2, 2, 2, 2, 2]\n"
     ]
    }
   ],
   "source": [
    "votingmachine(9,2)"
   ]
  },
  {
   "cell_type": "code",
   "execution_count": 12,
   "metadata": {},
   "outputs": [
    {
     "name": "stdout",
     "output_type": "stream",
     "text": [
      "[]\n"
     ]
    }
   ],
   "source": [
    "top"
   ]
  },
  {
   "cell_type": "code",
   "execution_count": null,
   "metadata": {},
   "outputs": [],
   "source": []
  }
 ],
 "metadata": {
  "kernelspec": {
   "display_name": "Python 3",
   "language": "python",
   "name": "python3"
  },
  "language_info": {
   "codemirror_mode": {
    "name": "ipython",
    "version": 3
   },
   "file_extension": ".py",
   "mimetype": "text/x-python",
   "name": "python",
   "nbconvert_exporter": "python",
   "pygments_lexer": "ipython3",
   "version": "3.7.4"
  }
 },
 "nbformat": 4,
 "nbformat_minor": 2
}
