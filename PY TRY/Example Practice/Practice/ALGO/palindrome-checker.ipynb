{
 "cells": [
  {
   "cell_type": "code",
   "execution_count": 1,
   "metadata": {},
   "outputs": [],
   "source": [
    "#------------------- Palindrome Checker ------------------------\n",
    "\n",
    "def reverse_num(num):\n",
    "    \"\"\" reverse function helps to reverse int/number like string\"\"\"\n",
    "    global revr_num   # We can use it out of the function  \n",
    "    if (num > 0):  \n",
    "        reminder = num % 10  \n",
    "        revr_num = (revr_num * 10) + reminder  \n",
    "        reverse_num(num // 10)  \n",
    "    return revr_num  \n",
    "\n",
    "def palindrome(num, reverse_num):\n",
    "    \"\"\"palindrome function returns whether a number is palindrome or not\"\"\"\n",
    "    if(num == reverse_num):\n",
    "        print(f'{num} is Palindrome')\n",
    "    else:\n",
    "        print(f'{num} is not a palindrome')\n",
    "\n",
    "def palindrome_check(num):\n",
    "    \"\"\"combining func:reverse_num and palindrome \"\"\"\n",
    "    global revr_num\n",
    "    revr_num=0\n",
    "    reversed_num = reverse_num(num)\n",
    "    palindrome(num, reversed_num)"
   ]
  },
  {
   "cell_type": "code",
   "execution_count": 2,
   "metadata": {},
   "outputs": [
    {
     "name": "stdout",
     "output_type": "stream",
     "text": [
      "111 is Palindrome\n"
     ]
    }
   ],
   "source": [
    "palindrome_check(111)"
   ]
  },
  {
   "cell_type": "code",
   "execution_count": 3,
   "metadata": {},
   "outputs": [
    {
     "name": "stdout",
     "output_type": "stream",
     "text": [
      "1671 is not a palindrome\n"
     ]
    }
   ],
   "source": [
    "palindrome_check(1671)"
   ]
  },
  {
   "cell_type": "code",
   "execution_count": null,
   "metadata": {},
   "outputs": [],
   "source": []
  }
 ],
 "metadata": {
  "kernelspec": {
   "display_name": "Python 3",
   "language": "python",
   "name": "python3"
  },
  "language_info": {
   "codemirror_mode": {
    "name": "ipython",
    "version": 3
   },
   "file_extension": ".py",
   "mimetype": "text/x-python",
   "name": "python",
   "nbconvert_exporter": "python",
   "pygments_lexer": "ipython3",
   "version": "3.7.4"
  }
 },
 "nbformat": 4,
 "nbformat_minor": 2
}
