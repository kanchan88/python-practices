{
 "cells": [
  {
   "cell_type": "code",
   "execution_count": 17,
   "metadata": {},
   "outputs": [],
   "source": [
    "from collections import Counter\n",
    "\n",
    "voters = []\n",
    "candidates = []"
   ]
  },
  {
   "cell_type": "code",
   "execution_count": 18,
   "metadata": {},
   "outputs": [],
   "source": [
    "def votingmachine(v_id, c_id):\n",
    "    \"\"\"Votingmachine validates only one vote from v_id and returns top candidates\"\"\"\n",
    "    w=open('vote.txt', \"r\")\n",
    "    voter_data = w.read()\n",
    "    w.close()\n",
    "    if v_id not in voters:\n",
    "        voters.append(v_id)\n",
    "        candidates.append(c_id)\n",
    "        f = open('vote.txt', \"a+\")\n",
    "        save_details = str(v_id)+\",\"+str(c_id)\n",
    "        f.write(\"{}\\n\".format(save_details))\n",
    "        print(\"Your Vote is Saved!\")\n",
    "    else:\n",
    "        print(\"SCAM ALERT - You can't vote twice\")\n",
    "    print(\"Top Voters: {'id':count}\\n\",Counter(candidates).most_common(3))\n",
    "    "
   ]
  },
  {
   "cell_type": "code",
   "execution_count": 28,
   "metadata": {},
   "outputs": [
    {
     "name": "stdout",
     "output_type": "stream",
     "text": [
      "Your Vote is Saved!\n",
      "Top Voters: {'id':count}\n",
      " [('3', 4), ('2', 3), ('1', 2)]\n"
     ]
    }
   ],
   "source": [
    "votingmachine(\"9\",\"3\")"
   ]
  },
  {
   "cell_type": "code",
   "execution_count": null,
   "metadata": {},
   "outputs": [],
   "source": []
  }
 ],
 "metadata": {
  "kernelspec": {
   "display_name": "Python 3",
   "language": "python",
   "name": "python3"
  },
  "language_info": {
   "codemirror_mode": {
    "name": "ipython",
    "version": 3
   },
   "file_extension": ".py",
   "mimetype": "text/x-python",
   "name": "python",
   "nbconvert_exporter": "python",
   "pygments_lexer": "ipython3",
   "version": "3.7.4"
  }
 },
 "nbformat": 4,
 "nbformat_minor": 2
}
