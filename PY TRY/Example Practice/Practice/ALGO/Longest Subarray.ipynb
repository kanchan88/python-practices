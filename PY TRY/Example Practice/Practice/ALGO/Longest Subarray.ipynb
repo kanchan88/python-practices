{
 "cells": [
  {
   "cell_type": "code",
   "execution_count": 1,
   "metadata": {},
   "outputs": [
    {
     "name": "stdout",
     "output_type": "stream",
     "text": [
      "Max length 5 with array[5, 1, 3, 2, 4]\n"
     ]
    }
   ],
   "source": [
    "#-------- finding largest sub-array without repeat -------------------\n",
    "\n",
    "input_list = [5, 1, 3, 5, 2, 3, 4, 1]\n",
    "tmp_list = []\n",
    "max_ = 0\n",
    "\n",
    "for i in input_list:\n",
    "    if i not in tmp_list:\n",
    "        tmp_list.append(i)\n",
    "    else:\n",
    "        max_ = len(tmp_list) if len(tmp_list) > max_ else max_\n",
    "\n",
    "print (f\"Max length {max_} with array{tmp_list}\")"
   ]
  },
  {
   "cell_type": "code",
   "execution_count": null,
   "metadata": {},
   "outputs": [],
   "source": []
  }
 ],
 "metadata": {
  "kernelspec": {
   "display_name": "Python 3",
   "language": "python",
   "name": "python3"
  },
  "language_info": {
   "codemirror_mode": {
    "name": "ipython",
    "version": 3
   },
   "file_extension": ".py",
   "mimetype": "text/x-python",
   "name": "python",
   "nbconvert_exporter": "python",
   "pygments_lexer": "ipython3",
   "version": "3.7.4"
  }
 },
 "nbformat": 4,
 "nbformat_minor": 2
}
