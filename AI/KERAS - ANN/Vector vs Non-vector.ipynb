{
 "cells": [
  {
   "cell_type": "code",
   "execution_count": 5,
   "metadata": {},
   "outputs": [
    {
     "name": "stdout",
     "output_type": "stream",
     "text": [
      "243.56277277874455\n",
      "Execution Duration:0.1983642578125ms\n"
     ]
    }
   ],
   "source": [
    "import time\n",
    "import numpy as np\n",
    "\n",
    "a = np.random.rand(1000)\n",
    "b = np.random.rand(1000)\n",
    "\n",
    "#vectorized\n",
    "#starting execution\n",
    "tic = time.time()\n",
    "c = np.dot(a,b)\n",
    "toc = time.time()\n",
    "\n",
    "print(c)\n",
    "\n",
    "print(\"Execution Duration:\" + str(1000*(toc-tic)) + \"ms\")"
   ]
  },
  {
   "cell_type": "code",
   "execution_count": 6,
   "metadata": {},
   "outputs": [
    {
     "name": "stdout",
     "output_type": "stream",
     "text": [
      "243.56277277874472\n",
      "Execution Duration:2.2377967834472656ms\n"
     ]
    }
   ],
   "source": [
    "#non vector\n",
    "c = 0\n",
    "tic = time.time()\n",
    "for i in range(1000):\n",
    "    c = c+ a[i]*b[i]\n",
    "toc = time.time()\n",
    "\n",
    "print(c)\n",
    "\n",
    "print(\"Execution Duration:\" + str(1000*(toc-tic)) + \"ms\")"
   ]
  },
  {
   "cell_type": "code",
   "execution_count": null,
   "metadata": {},
   "outputs": [],
   "source": []
  }
 ],
 "metadata": {
  "kernelspec": {
   "display_name": "Python 3",
   "language": "python",
   "name": "python3"
  },
  "language_info": {
   "codemirror_mode": {
    "name": "ipython",
    "version": 3
   },
   "file_extension": ".py",
   "mimetype": "text/x-python",
   "name": "python",
   "nbconvert_exporter": "python",
   "pygments_lexer": "ipython3",
   "version": "3.7.4"
  }
 },
 "nbformat": 4,
 "nbformat_minor": 2
}
